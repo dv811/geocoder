{
 "cells": [
  {
   "cell_type": "markdown",
   "id": "fd15ba04",
   "metadata": {},
   "source": [
    "# Простой геокодер"
   ]
  },
  {
   "cell_type": "code",
   "execution_count": 14,
   "id": "4df313cc",
   "metadata": {
    "ExecuteTime": {
     "end_time": "2022-03-28T18:11:39.216171Z",
     "start_time": "2022-03-28T18:11:39.211862Z"
    }
   },
   "outputs": [],
   "source": [
    "import pandas as pd\n",
    "import requests as req\n",
    "import json\n",
    "import warnings as w\n",
    "w.filterwarnings('ignore')"
   ]
  },
  {
   "cell_type": "markdown",
   "id": "1f22e607",
   "metadata": {},
   "source": [
    "## Создаем DataFrame"
   ]
  },
  {
   "cell_type": "code",
   "execution_count": 15,
   "id": "8aa4765f",
   "metadata": {
    "ExecuteTime": {
     "end_time": "2022-03-28T18:11:40.090021Z",
     "start_time": "2022-03-28T18:11:40.061234Z"
    }
   },
   "outputs": [],
   "source": [
    "df=pd.DataFrame(columns=['country','city','street','adr'])"
   ]
  },
  {
   "cell_type": "code",
   "execution_count": 16,
   "id": "3ed058b5",
   "metadata": {
    "ExecuteTime": {
     "end_time": "2022-03-28T18:11:40.566281Z",
     "start_time": "2022-03-28T18:11:40.561068Z"
    }
   },
   "outputs": [],
   "source": [
    "df['adr']=range(1,11)"
   ]
  },
  {
   "cell_type": "code",
   "execution_count": 17,
   "id": "886cb1e2",
   "metadata": {
    "ExecuteTime": {
     "end_time": "2022-03-28T18:11:40.997215Z",
     "start_time": "2022-03-28T18:11:40.990890Z"
    }
   },
   "outputs": [],
   "source": [
    "df['country']='Россия'"
   ]
  },
  {
   "cell_type": "code",
   "execution_count": 18,
   "id": "42b6059a",
   "metadata": {
    "ExecuteTime": {
     "end_time": "2022-03-28T18:11:41.420291Z",
     "start_time": "2022-03-28T18:11:41.401681Z"
    }
   },
   "outputs": [],
   "source": [
    "df['street']='Гагарина'"
   ]
  },
  {
   "cell_type": "code",
   "execution_count": 19,
   "id": "782ceb32",
   "metadata": {
    "ExecuteTime": {
     "end_time": "2022-03-28T18:11:41.859895Z",
     "start_time": "2022-03-28T18:11:41.851855Z"
    }
   },
   "outputs": [],
   "source": [
    "df['city']=['Москва','Санкт-Петербург','Воронеж','Краснодар','Самара','Волгоград','Екатеринбург','Новосибирск','Иркутск','Хабаровск']"
   ]
  },
  {
   "cell_type": "code",
   "execution_count": 20,
   "id": "b933b35c",
   "metadata": {
    "ExecuteTime": {
     "end_time": "2022-03-28T18:11:42.339910Z",
     "start_time": "2022-03-28T18:11:42.311164Z"
    }
   },
   "outputs": [],
   "source": [
    "df['full_']=df['country'].astype(str)+', '+df['city'].astype(str)+', '+df['street'].astype(str)+' '+df['adr'].astype(str)"
   ]
  },
  {
   "cell_type": "code",
   "execution_count": 21,
   "id": "ca636383",
   "metadata": {
    "ExecuteTime": {
     "end_time": "2022-03-28T18:11:42.820201Z",
     "start_time": "2022-03-28T18:11:42.801683Z"
    }
   },
   "outputs": [
    {
     "data": {
      "text/html": [
       "<div>\n",
       "<style scoped>\n",
       "    .dataframe tbody tr th:only-of-type {\n",
       "        vertical-align: middle;\n",
       "    }\n",
       "\n",
       "    .dataframe tbody tr th {\n",
       "        vertical-align: top;\n",
       "    }\n",
       "\n",
       "    .dataframe thead th {\n",
       "        text-align: right;\n",
       "    }\n",
       "</style>\n",
       "<table border=\"1\" class=\"dataframe\">\n",
       "  <thead>\n",
       "    <tr style=\"text-align: right;\">\n",
       "      <th></th>\n",
       "      <th>country</th>\n",
       "      <th>city</th>\n",
       "      <th>street</th>\n",
       "      <th>adr</th>\n",
       "      <th>full_</th>\n",
       "    </tr>\n",
       "  </thead>\n",
       "  <tbody>\n",
       "    <tr>\n",
       "      <th>0</th>\n",
       "      <td>Россия</td>\n",
       "      <td>Москва</td>\n",
       "      <td>Гагарина</td>\n",
       "      <td>1</td>\n",
       "      <td>Россия, Москва, Гагарина 1</td>\n",
       "    </tr>\n",
       "    <tr>\n",
       "      <th>1</th>\n",
       "      <td>Россия</td>\n",
       "      <td>Санкт-Петербург</td>\n",
       "      <td>Гагарина</td>\n",
       "      <td>2</td>\n",
       "      <td>Россия, Санкт-Петербург, Гагарина 2</td>\n",
       "    </tr>\n",
       "    <tr>\n",
       "      <th>2</th>\n",
       "      <td>Россия</td>\n",
       "      <td>Воронеж</td>\n",
       "      <td>Гагарина</td>\n",
       "      <td>3</td>\n",
       "      <td>Россия, Воронеж, Гагарина 3</td>\n",
       "    </tr>\n",
       "    <tr>\n",
       "      <th>3</th>\n",
       "      <td>Россия</td>\n",
       "      <td>Краснодар</td>\n",
       "      <td>Гагарина</td>\n",
       "      <td>4</td>\n",
       "      <td>Россия, Краснодар, Гагарина 4</td>\n",
       "    </tr>\n",
       "    <tr>\n",
       "      <th>4</th>\n",
       "      <td>Россия</td>\n",
       "      <td>Самара</td>\n",
       "      <td>Гагарина</td>\n",
       "      <td>5</td>\n",
       "      <td>Россия, Самара, Гагарина 5</td>\n",
       "    </tr>\n",
       "    <tr>\n",
       "      <th>5</th>\n",
       "      <td>Россия</td>\n",
       "      <td>Волгоград</td>\n",
       "      <td>Гагарина</td>\n",
       "      <td>6</td>\n",
       "      <td>Россия, Волгоград, Гагарина 6</td>\n",
       "    </tr>\n",
       "    <tr>\n",
       "      <th>6</th>\n",
       "      <td>Россия</td>\n",
       "      <td>Екатеринбург</td>\n",
       "      <td>Гагарина</td>\n",
       "      <td>7</td>\n",
       "      <td>Россия, Екатеринбург, Гагарина 7</td>\n",
       "    </tr>\n",
       "    <tr>\n",
       "      <th>7</th>\n",
       "      <td>Россия</td>\n",
       "      <td>Новосибирск</td>\n",
       "      <td>Гагарина</td>\n",
       "      <td>8</td>\n",
       "      <td>Россия, Новосибирск, Гагарина 8</td>\n",
       "    </tr>\n",
       "    <tr>\n",
       "      <th>8</th>\n",
       "      <td>Россия</td>\n",
       "      <td>Иркутск</td>\n",
       "      <td>Гагарина</td>\n",
       "      <td>9</td>\n",
       "      <td>Россия, Иркутск, Гагарина 9</td>\n",
       "    </tr>\n",
       "    <tr>\n",
       "      <th>9</th>\n",
       "      <td>Россия</td>\n",
       "      <td>Хабаровск</td>\n",
       "      <td>Гагарина</td>\n",
       "      <td>10</td>\n",
       "      <td>Россия, Хабаровск, Гагарина 10</td>\n",
       "    </tr>\n",
       "  </tbody>\n",
       "</table>\n",
       "</div>"
      ],
      "text/plain": [
       "  country             city    street  adr                                full_\n",
       "0  Россия           Москва  Гагарина    1           Россия, Москва, Гагарина 1\n",
       "1  Россия  Санкт-Петербург  Гагарина    2  Россия, Санкт-Петербург, Гагарина 2\n",
       "2  Россия          Воронеж  Гагарина    3          Россия, Воронеж, Гагарина 3\n",
       "3  Россия        Краснодар  Гагарина    4        Россия, Краснодар, Гагарина 4\n",
       "4  Россия           Самара  Гагарина    5           Россия, Самара, Гагарина 5\n",
       "5  Россия        Волгоград  Гагарина    6        Россия, Волгоград, Гагарина 6\n",
       "6  Россия     Екатеринбург  Гагарина    7     Россия, Екатеринбург, Гагарина 7\n",
       "7  Россия      Новосибирск  Гагарина    8      Россия, Новосибирск, Гагарина 8\n",
       "8  Россия          Иркутск  Гагарина    9          Россия, Иркутск, Гагарина 9\n",
       "9  Россия        Хабаровск  Гагарина   10       Россия, Хабаровск, Гагарина 10"
      ]
     },
     "execution_count": 21,
     "metadata": {},
     "output_type": "execute_result"
    }
   ],
   "source": [
    "df"
   ]
  },
  {
   "cell_type": "markdown",
   "id": "0fe32413",
   "metadata": {},
   "source": [
    "## Берем координаты с https://nominatim.openstreetmap.org"
   ]
  },
  {
   "cell_type": "code",
   "execution_count": 22,
   "id": "18a57b6c",
   "metadata": {
    "ExecuteTime": {
     "end_time": "2022-03-28T18:11:43.740248Z",
     "start_time": "2022-03-28T18:11:43.720841Z"
    }
   },
   "outputs": [],
   "source": [
    "def get_coord(df):\n",
    "    df['lon']=pd.Series()\n",
    "    df['lat']=pd.Series()\n",
    "    try: \n",
    "        for i in df['full_']:\n",
    "            response=req.get('https://nominatim.openstreetmap.org/search?',params={'q':f'{i}', 'format':'geocodejson'})\n",
    "            geoj=response.json()\n",
    "            df['lon'].loc[df['full_']==i]=geoj['features'][0]['geometry']['coordinates'][0]\n",
    "            df['lat'].loc[df['full_']==i]=geoj['features'][0]['geometry']['coordinates'][1]\n",
    "        response.close()\n",
    "    except: print('Нет соединения. Печаль :(')\n",
    "    return df"
   ]
  },
  {
   "cell_type": "code",
   "execution_count": 23,
   "id": "2e6443a6",
   "metadata": {
    "ExecuteTime": {
     "end_time": "2022-03-28T18:11:49.450136Z",
     "start_time": "2022-03-28T18:11:44.182028Z"
    }
   },
   "outputs": [
    {
     "data": {
      "text/html": [
       "<div>\n",
       "<style scoped>\n",
       "    .dataframe tbody tr th:only-of-type {\n",
       "        vertical-align: middle;\n",
       "    }\n",
       "\n",
       "    .dataframe tbody tr th {\n",
       "        vertical-align: top;\n",
       "    }\n",
       "\n",
       "    .dataframe thead th {\n",
       "        text-align: right;\n",
       "    }\n",
       "</style>\n",
       "<table border=\"1\" class=\"dataframe\">\n",
       "  <thead>\n",
       "    <tr style=\"text-align: right;\">\n",
       "      <th></th>\n",
       "      <th>country</th>\n",
       "      <th>city</th>\n",
       "      <th>street</th>\n",
       "      <th>adr</th>\n",
       "      <th>full_</th>\n",
       "      <th>lon</th>\n",
       "      <th>lat</th>\n",
       "    </tr>\n",
       "  </thead>\n",
       "  <tbody>\n",
       "    <tr>\n",
       "      <th>0</th>\n",
       "      <td>Россия</td>\n",
       "      <td>Москва</td>\n",
       "      <td>Гагарина</td>\n",
       "      <td>1</td>\n",
       "      <td>Россия, Москва, Гагарина 1</td>\n",
       "      <td>38.088888</td>\n",
       "      <td>55.608456</td>\n",
       "    </tr>\n",
       "    <tr>\n",
       "      <th>1</th>\n",
       "      <td>Россия</td>\n",
       "      <td>Санкт-Петербург</td>\n",
       "      <td>Гагарина</td>\n",
       "      <td>2</td>\n",
       "      <td>Россия, Санкт-Петербург, Гагарина 2</td>\n",
       "      <td>30.341503</td>\n",
       "      <td>59.846619</td>\n",
       "    </tr>\n",
       "    <tr>\n",
       "      <th>2</th>\n",
       "      <td>Россия</td>\n",
       "      <td>Воронеж</td>\n",
       "      <td>Гагарина</td>\n",
       "      <td>3</td>\n",
       "      <td>Россия, Воронеж, Гагарина 3</td>\n",
       "      <td>39.521864</td>\n",
       "      <td>50.981301</td>\n",
       "    </tr>\n",
       "    <tr>\n",
       "      <th>3</th>\n",
       "      <td>Россия</td>\n",
       "      <td>Краснодар</td>\n",
       "      <td>Гагарина</td>\n",
       "      <td>4</td>\n",
       "      <td>Россия, Краснодар, Гагарина 4</td>\n",
       "      <td>38.932184</td>\n",
       "      <td>45.056929</td>\n",
       "    </tr>\n",
       "    <tr>\n",
       "      <th>4</th>\n",
       "      <td>Россия</td>\n",
       "      <td>Самара</td>\n",
       "      <td>Гагарина</td>\n",
       "      <td>5</td>\n",
       "      <td>Россия, Самара, Гагарина 5</td>\n",
       "      <td>49.482812</td>\n",
       "      <td>53.402120</td>\n",
       "    </tr>\n",
       "    <tr>\n",
       "      <th>5</th>\n",
       "      <td>Россия</td>\n",
       "      <td>Волгоград</td>\n",
       "      <td>Гагарина</td>\n",
       "      <td>6</td>\n",
       "      <td>Россия, Волгоград, Гагарина 6</td>\n",
       "      <td>43.520957</td>\n",
       "      <td>48.700321</td>\n",
       "    </tr>\n",
       "    <tr>\n",
       "      <th>6</th>\n",
       "      <td>Россия</td>\n",
       "      <td>Екатеринбург</td>\n",
       "      <td>Гагарина</td>\n",
       "      <td>7</td>\n",
       "      <td>Россия, Екатеринбург, Гагарина 7</td>\n",
       "      <td>60.643334</td>\n",
       "      <td>56.849878</td>\n",
       "    </tr>\n",
       "    <tr>\n",
       "      <th>7</th>\n",
       "      <td>Россия</td>\n",
       "      <td>Новосибирск</td>\n",
       "      <td>Гагарина</td>\n",
       "      <td>8</td>\n",
       "      <td>Россия, Новосибирск, Гагарина 8</td>\n",
       "      <td>78.270996</td>\n",
       "      <td>55.450004</td>\n",
       "    </tr>\n",
       "    <tr>\n",
       "      <th>8</th>\n",
       "      <td>Россия</td>\n",
       "      <td>Иркутск</td>\n",
       "      <td>Гагарина</td>\n",
       "      <td>9</td>\n",
       "      <td>Россия, Иркутск, Гагарина 9</td>\n",
       "      <td>104.281294</td>\n",
       "      <td>52.272841</td>\n",
       "    </tr>\n",
       "    <tr>\n",
       "      <th>9</th>\n",
       "      <td>Россия</td>\n",
       "      <td>Хабаровск</td>\n",
       "      <td>Гагарина</td>\n",
       "      <td>10</td>\n",
       "      <td>Россия, Хабаровск, Гагарина 10</td>\n",
       "      <td>135.185325</td>\n",
       "      <td>48.457486</td>\n",
       "    </tr>\n",
       "  </tbody>\n",
       "</table>\n",
       "</div>"
      ],
      "text/plain": [
       "  country             city    street  adr  \\\n",
       "0  Россия           Москва  Гагарина    1   \n",
       "1  Россия  Санкт-Петербург  Гагарина    2   \n",
       "2  Россия          Воронеж  Гагарина    3   \n",
       "3  Россия        Краснодар  Гагарина    4   \n",
       "4  Россия           Самара  Гагарина    5   \n",
       "5  Россия        Волгоград  Гагарина    6   \n",
       "6  Россия     Екатеринбург  Гагарина    7   \n",
       "7  Россия      Новосибирск  Гагарина    8   \n",
       "8  Россия          Иркутск  Гагарина    9   \n",
       "9  Россия        Хабаровск  Гагарина   10   \n",
       "\n",
       "                                 full_         lon        lat  \n",
       "0           Россия, Москва, Гагарина 1   38.088888  55.608456  \n",
       "1  Россия, Санкт-Петербург, Гагарина 2   30.341503  59.846619  \n",
       "2          Россия, Воронеж, Гагарина 3   39.521864  50.981301  \n",
       "3        Россия, Краснодар, Гагарина 4   38.932184  45.056929  \n",
       "4           Россия, Самара, Гагарина 5   49.482812  53.402120  \n",
       "5        Россия, Волгоград, Гагарина 6   43.520957  48.700321  \n",
       "6     Россия, Екатеринбург, Гагарина 7   60.643334  56.849878  \n",
       "7      Россия, Новосибирск, Гагарина 8   78.270996  55.450004  \n",
       "8          Россия, Иркутск, Гагарина 9  104.281294  52.272841  \n",
       "9       Россия, Хабаровск, Гагарина 10  135.185325  48.457486  "
      ]
     },
     "execution_count": 23,
     "metadata": {},
     "output_type": "execute_result"
    }
   ],
   "source": [
    "get_coord(df)"
   ]
  },
  {
   "cell_type": "markdown",
   "id": "ac1835bd",
   "metadata": {
    "ExecuteTime": {
     "end_time": "2022-03-28T16:40:12.221567Z",
     "start_time": "2022-03-28T16:40:12.199837Z"
    }
   },
   "source": [
    "## Рисуем карту"
   ]
  },
  {
   "cell_type": "code",
   "execution_count": 27,
   "id": "d48a805e",
   "metadata": {
    "ExecuteTime": {
     "end_time": "2022-03-28T18:12:25.029953Z",
     "start_time": "2022-03-28T18:12:24.971924Z"
    }
   },
   "outputs": [
    {
     "data": {
      "application/vnd.plotly.v1+json": {
       "config": {
        "plotlyServerURL": "https://plot.ly"
       },
       "data": [
        {
         "hovertemplate": "<b>%{hovertext}</b><br><br>lat=%{lat}<br>lon=%{lon}<extra></extra>",
         "hovertext": [
          "Россия, Москва, Гагарина 1",
          "Россия, Санкт-Петербург, Гагарина 2",
          "Россия, Воронеж, Гагарина 3",
          "Россия, Краснодар, Гагарина 4",
          "Россия, Самара, Гагарина 5",
          "Россия, Волгоград, Гагарина 6",
          "Россия, Екатеринбург, Гагарина 7",
          "Россия, Новосибирск, Гагарина 8",
          "Россия, Иркутск, Гагарина 9",
          "Россия, Хабаровск, Гагарина 10"
         ],
         "lat": [
          55.6084559,
          59.846618649999996,
          50.981301099999996,
          45.05692885,
          53.4021203,
          48.7003214,
          56.849878450000006,
          55.45000365,
          52.2728407,
          48.4574864
         ],
         "legendgroup": "",
         "lon": [
          38.0888877,
          30.34150257520974,
          39.521864300000004,
          38.932183800000004,
          49.48281205499333,
          43.52095705091777,
          60.643334370324915,
          78.2709956,
          104.28129386599488,
          135.1853253
         ],
         "marker": {
          "color": "#636efa"
         },
         "mode": "markers",
         "name": "",
         "showlegend": false,
         "subplot": "mapbox",
         "type": "scattermapbox"
        }
       ],
       "layout": {
        "height": 800,
        "legend": {
         "tracegroupgap": 0
        },
        "mapbox": {
         "center": {
          "lat": 52.662595540000005,
          "lon": 61.82691566174405
         },
         "domain": {
          "x": [
           0,
           1
          ],
          "y": [
           0,
           1
          ]
         },
         "style": "open-street-map",
         "zoom": 2
        },
        "margin": {
         "t": 60
        },
        "template": {
         "data": {
          "bar": [
           {
            "error_x": {
             "color": "#2a3f5f"
            },
            "error_y": {
             "color": "#2a3f5f"
            },
            "marker": {
             "line": {
              "color": "#E5ECF6",
              "width": 0.5
             },
             "pattern": {
              "fillmode": "overlay",
              "size": 10,
              "solidity": 0.2
             }
            },
            "type": "bar"
           }
          ],
          "barpolar": [
           {
            "marker": {
             "line": {
              "color": "#E5ECF6",
              "width": 0.5
             },
             "pattern": {
              "fillmode": "overlay",
              "size": 10,
              "solidity": 0.2
             }
            },
            "type": "barpolar"
           }
          ],
          "carpet": [
           {
            "aaxis": {
             "endlinecolor": "#2a3f5f",
             "gridcolor": "white",
             "linecolor": "white",
             "minorgridcolor": "white",
             "startlinecolor": "#2a3f5f"
            },
            "baxis": {
             "endlinecolor": "#2a3f5f",
             "gridcolor": "white",
             "linecolor": "white",
             "minorgridcolor": "white",
             "startlinecolor": "#2a3f5f"
            },
            "type": "carpet"
           }
          ],
          "choropleth": [
           {
            "colorbar": {
             "outlinewidth": 0,
             "ticks": ""
            },
            "type": "choropleth"
           }
          ],
          "contour": [
           {
            "colorbar": {
             "outlinewidth": 0,
             "ticks": ""
            },
            "colorscale": [
             [
              0,
              "#0d0887"
             ],
             [
              0.1111111111111111,
              "#46039f"
             ],
             [
              0.2222222222222222,
              "#7201a8"
             ],
             [
              0.3333333333333333,
              "#9c179e"
             ],
             [
              0.4444444444444444,
              "#bd3786"
             ],
             [
              0.5555555555555556,
              "#d8576b"
             ],
             [
              0.6666666666666666,
              "#ed7953"
             ],
             [
              0.7777777777777778,
              "#fb9f3a"
             ],
             [
              0.8888888888888888,
              "#fdca26"
             ],
             [
              1,
              "#f0f921"
             ]
            ],
            "type": "contour"
           }
          ],
          "contourcarpet": [
           {
            "colorbar": {
             "outlinewidth": 0,
             "ticks": ""
            },
            "type": "contourcarpet"
           }
          ],
          "heatmap": [
           {
            "colorbar": {
             "outlinewidth": 0,
             "ticks": ""
            },
            "colorscale": [
             [
              0,
              "#0d0887"
             ],
             [
              0.1111111111111111,
              "#46039f"
             ],
             [
              0.2222222222222222,
              "#7201a8"
             ],
             [
              0.3333333333333333,
              "#9c179e"
             ],
             [
              0.4444444444444444,
              "#bd3786"
             ],
             [
              0.5555555555555556,
              "#d8576b"
             ],
             [
              0.6666666666666666,
              "#ed7953"
             ],
             [
              0.7777777777777778,
              "#fb9f3a"
             ],
             [
              0.8888888888888888,
              "#fdca26"
             ],
             [
              1,
              "#f0f921"
             ]
            ],
            "type": "heatmap"
           }
          ],
          "heatmapgl": [
           {
            "colorbar": {
             "outlinewidth": 0,
             "ticks": ""
            },
            "colorscale": [
             [
              0,
              "#0d0887"
             ],
             [
              0.1111111111111111,
              "#46039f"
             ],
             [
              0.2222222222222222,
              "#7201a8"
             ],
             [
              0.3333333333333333,
              "#9c179e"
             ],
             [
              0.4444444444444444,
              "#bd3786"
             ],
             [
              0.5555555555555556,
              "#d8576b"
             ],
             [
              0.6666666666666666,
              "#ed7953"
             ],
             [
              0.7777777777777778,
              "#fb9f3a"
             ],
             [
              0.8888888888888888,
              "#fdca26"
             ],
             [
              1,
              "#f0f921"
             ]
            ],
            "type": "heatmapgl"
           }
          ],
          "histogram": [
           {
            "marker": {
             "pattern": {
              "fillmode": "overlay",
              "size": 10,
              "solidity": 0.2
             }
            },
            "type": "histogram"
           }
          ],
          "histogram2d": [
           {
            "colorbar": {
             "outlinewidth": 0,
             "ticks": ""
            },
            "colorscale": [
             [
              0,
              "#0d0887"
             ],
             [
              0.1111111111111111,
              "#46039f"
             ],
             [
              0.2222222222222222,
              "#7201a8"
             ],
             [
              0.3333333333333333,
              "#9c179e"
             ],
             [
              0.4444444444444444,
              "#bd3786"
             ],
             [
              0.5555555555555556,
              "#d8576b"
             ],
             [
              0.6666666666666666,
              "#ed7953"
             ],
             [
              0.7777777777777778,
              "#fb9f3a"
             ],
             [
              0.8888888888888888,
              "#fdca26"
             ],
             [
              1,
              "#f0f921"
             ]
            ],
            "type": "histogram2d"
           }
          ],
          "histogram2dcontour": [
           {
            "colorbar": {
             "outlinewidth": 0,
             "ticks": ""
            },
            "colorscale": [
             [
              0,
              "#0d0887"
             ],
             [
              0.1111111111111111,
              "#46039f"
             ],
             [
              0.2222222222222222,
              "#7201a8"
             ],
             [
              0.3333333333333333,
              "#9c179e"
             ],
             [
              0.4444444444444444,
              "#bd3786"
             ],
             [
              0.5555555555555556,
              "#d8576b"
             ],
             [
              0.6666666666666666,
              "#ed7953"
             ],
             [
              0.7777777777777778,
              "#fb9f3a"
             ],
             [
              0.8888888888888888,
              "#fdca26"
             ],
             [
              1,
              "#f0f921"
             ]
            ],
            "type": "histogram2dcontour"
           }
          ],
          "mesh3d": [
           {
            "colorbar": {
             "outlinewidth": 0,
             "ticks": ""
            },
            "type": "mesh3d"
           }
          ],
          "parcoords": [
           {
            "line": {
             "colorbar": {
              "outlinewidth": 0,
              "ticks": ""
             }
            },
            "type": "parcoords"
           }
          ],
          "pie": [
           {
            "automargin": true,
            "type": "pie"
           }
          ],
          "scatter": [
           {
            "marker": {
             "colorbar": {
              "outlinewidth": 0,
              "ticks": ""
             }
            },
            "type": "scatter"
           }
          ],
          "scatter3d": [
           {
            "line": {
             "colorbar": {
              "outlinewidth": 0,
              "ticks": ""
             }
            },
            "marker": {
             "colorbar": {
              "outlinewidth": 0,
              "ticks": ""
             }
            },
            "type": "scatter3d"
           }
          ],
          "scattercarpet": [
           {
            "marker": {
             "colorbar": {
              "outlinewidth": 0,
              "ticks": ""
             }
            },
            "type": "scattercarpet"
           }
          ],
          "scattergeo": [
           {
            "marker": {
             "colorbar": {
              "outlinewidth": 0,
              "ticks": ""
             }
            },
            "type": "scattergeo"
           }
          ],
          "scattergl": [
           {
            "marker": {
             "colorbar": {
              "outlinewidth": 0,
              "ticks": ""
             }
            },
            "type": "scattergl"
           }
          ],
          "scattermapbox": [
           {
            "marker": {
             "colorbar": {
              "outlinewidth": 0,
              "ticks": ""
             }
            },
            "type": "scattermapbox"
           }
          ],
          "scatterpolar": [
           {
            "marker": {
             "colorbar": {
              "outlinewidth": 0,
              "ticks": ""
             }
            },
            "type": "scatterpolar"
           }
          ],
          "scatterpolargl": [
           {
            "marker": {
             "colorbar": {
              "outlinewidth": 0,
              "ticks": ""
             }
            },
            "type": "scatterpolargl"
           }
          ],
          "scatterternary": [
           {
            "marker": {
             "colorbar": {
              "outlinewidth": 0,
              "ticks": ""
             }
            },
            "type": "scatterternary"
           }
          ],
          "surface": [
           {
            "colorbar": {
             "outlinewidth": 0,
             "ticks": ""
            },
            "colorscale": [
             [
              0,
              "#0d0887"
             ],
             [
              0.1111111111111111,
              "#46039f"
             ],
             [
              0.2222222222222222,
              "#7201a8"
             ],
             [
              0.3333333333333333,
              "#9c179e"
             ],
             [
              0.4444444444444444,
              "#bd3786"
             ],
             [
              0.5555555555555556,
              "#d8576b"
             ],
             [
              0.6666666666666666,
              "#ed7953"
             ],
             [
              0.7777777777777778,
              "#fb9f3a"
             ],
             [
              0.8888888888888888,
              "#fdca26"
             ],
             [
              1,
              "#f0f921"
             ]
            ],
            "type": "surface"
           }
          ],
          "table": [
           {
            "cells": {
             "fill": {
              "color": "#EBF0F8"
             },
             "line": {
              "color": "white"
             }
            },
            "header": {
             "fill": {
              "color": "#C8D4E3"
             },
             "line": {
              "color": "white"
             }
            },
            "type": "table"
           }
          ]
         },
         "layout": {
          "annotationdefaults": {
           "arrowcolor": "#2a3f5f",
           "arrowhead": 0,
           "arrowwidth": 1
          },
          "autotypenumbers": "strict",
          "coloraxis": {
           "colorbar": {
            "outlinewidth": 0,
            "ticks": ""
           }
          },
          "colorscale": {
           "diverging": [
            [
             0,
             "#8e0152"
            ],
            [
             0.1,
             "#c51b7d"
            ],
            [
             0.2,
             "#de77ae"
            ],
            [
             0.3,
             "#f1b6da"
            ],
            [
             0.4,
             "#fde0ef"
            ],
            [
             0.5,
             "#f7f7f7"
            ],
            [
             0.6,
             "#e6f5d0"
            ],
            [
             0.7,
             "#b8e186"
            ],
            [
             0.8,
             "#7fbc41"
            ],
            [
             0.9,
             "#4d9221"
            ],
            [
             1,
             "#276419"
            ]
           ],
           "sequential": [
            [
             0,
             "#0d0887"
            ],
            [
             0.1111111111111111,
             "#46039f"
            ],
            [
             0.2222222222222222,
             "#7201a8"
            ],
            [
             0.3333333333333333,
             "#9c179e"
            ],
            [
             0.4444444444444444,
             "#bd3786"
            ],
            [
             0.5555555555555556,
             "#d8576b"
            ],
            [
             0.6666666666666666,
             "#ed7953"
            ],
            [
             0.7777777777777778,
             "#fb9f3a"
            ],
            [
             0.8888888888888888,
             "#fdca26"
            ],
            [
             1,
             "#f0f921"
            ]
           ],
           "sequentialminus": [
            [
             0,
             "#0d0887"
            ],
            [
             0.1111111111111111,
             "#46039f"
            ],
            [
             0.2222222222222222,
             "#7201a8"
            ],
            [
             0.3333333333333333,
             "#9c179e"
            ],
            [
             0.4444444444444444,
             "#bd3786"
            ],
            [
             0.5555555555555556,
             "#d8576b"
            ],
            [
             0.6666666666666666,
             "#ed7953"
            ],
            [
             0.7777777777777778,
             "#fb9f3a"
            ],
            [
             0.8888888888888888,
             "#fdca26"
            ],
            [
             1,
             "#f0f921"
            ]
           ]
          },
          "colorway": [
           "#636efa",
           "#EF553B",
           "#00cc96",
           "#ab63fa",
           "#FFA15A",
           "#19d3f3",
           "#FF6692",
           "#B6E880",
           "#FF97FF",
           "#FECB52"
          ],
          "font": {
           "color": "#2a3f5f"
          },
          "geo": {
           "bgcolor": "white",
           "lakecolor": "white",
           "landcolor": "#E5ECF6",
           "showlakes": true,
           "showland": true,
           "subunitcolor": "white"
          },
          "hoverlabel": {
           "align": "left"
          },
          "hovermode": "closest",
          "mapbox": {
           "style": "light"
          },
          "paper_bgcolor": "white",
          "plot_bgcolor": "#E5ECF6",
          "polar": {
           "angularaxis": {
            "gridcolor": "white",
            "linecolor": "white",
            "ticks": ""
           },
           "bgcolor": "#E5ECF6",
           "radialaxis": {
            "gridcolor": "white",
            "linecolor": "white",
            "ticks": ""
           }
          },
          "scene": {
           "xaxis": {
            "backgroundcolor": "#E5ECF6",
            "gridcolor": "white",
            "gridwidth": 2,
            "linecolor": "white",
            "showbackground": true,
            "ticks": "",
            "zerolinecolor": "white"
           },
           "yaxis": {
            "backgroundcolor": "#E5ECF6",
            "gridcolor": "white",
            "gridwidth": 2,
            "linecolor": "white",
            "showbackground": true,
            "ticks": "",
            "zerolinecolor": "white"
           },
           "zaxis": {
            "backgroundcolor": "#E5ECF6",
            "gridcolor": "white",
            "gridwidth": 2,
            "linecolor": "white",
            "showbackground": true,
            "ticks": "",
            "zerolinecolor": "white"
           }
          },
          "shapedefaults": {
           "line": {
            "color": "#2a3f5f"
           }
          },
          "ternary": {
           "aaxis": {
            "gridcolor": "white",
            "linecolor": "white",
            "ticks": ""
           },
           "baxis": {
            "gridcolor": "white",
            "linecolor": "white",
            "ticks": ""
           },
           "bgcolor": "#E5ECF6",
           "caxis": {
            "gridcolor": "white",
            "linecolor": "white",
            "ticks": ""
           }
          },
          "title": {
           "x": 0.05
          },
          "xaxis": {
           "automargin": true,
           "gridcolor": "white",
           "linecolor": "white",
           "ticks": "",
           "title": {
            "standoff": 15
           },
           "zerolinecolor": "white",
           "zerolinewidth": 2
          },
          "yaxis": {
           "automargin": true,
           "gridcolor": "white",
           "linecolor": "white",
           "ticks": "",
           "title": {
            "standoff": 15
           },
           "zerolinecolor": "white",
           "zerolinewidth": 2
          }
         }
        }
       }
      },
      "text/html": [
       "<div>                            <div id=\"b4073d76-96e2-4ab6-96eb-1161da5e5e53\" class=\"plotly-graph-div\" style=\"height:800px; width:100%;\"></div>            <script type=\"text/javascript\">                require([\"plotly\"], function(Plotly) {                    window.PLOTLYENV=window.PLOTLYENV || {};                                    if (document.getElementById(\"b4073d76-96e2-4ab6-96eb-1161da5e5e53\")) {                    Plotly.newPlot(                        \"b4073d76-96e2-4ab6-96eb-1161da5e5e53\",                        [{\"hovertemplate\":\"<b>%{hovertext}</b><br><br>lat=%{lat}<br>lon=%{lon}<extra></extra>\",\"hovertext\":[\"\\u0420\\u043e\\u0441\\u0441\\u0438\\u044f, \\u041c\\u043e\\u0441\\u043a\\u0432\\u0430, \\u0413\\u0430\\u0433\\u0430\\u0440\\u0438\\u043d\\u0430 1\",\"\\u0420\\u043e\\u0441\\u0441\\u0438\\u044f, \\u0421\\u0430\\u043d\\u043a\\u0442-\\u041f\\u0435\\u0442\\u0435\\u0440\\u0431\\u0443\\u0440\\u0433, \\u0413\\u0430\\u0433\\u0430\\u0440\\u0438\\u043d\\u0430 2\",\"\\u0420\\u043e\\u0441\\u0441\\u0438\\u044f, \\u0412\\u043e\\u0440\\u043e\\u043d\\u0435\\u0436, \\u0413\\u0430\\u0433\\u0430\\u0440\\u0438\\u043d\\u0430 3\",\"\\u0420\\u043e\\u0441\\u0441\\u0438\\u044f, \\u041a\\u0440\\u0430\\u0441\\u043d\\u043e\\u0434\\u0430\\u0440, \\u0413\\u0430\\u0433\\u0430\\u0440\\u0438\\u043d\\u0430 4\",\"\\u0420\\u043e\\u0441\\u0441\\u0438\\u044f, \\u0421\\u0430\\u043c\\u0430\\u0440\\u0430, \\u0413\\u0430\\u0433\\u0430\\u0440\\u0438\\u043d\\u0430 5\",\"\\u0420\\u043e\\u0441\\u0441\\u0438\\u044f, \\u0412\\u043e\\u043b\\u0433\\u043e\\u0433\\u0440\\u0430\\u0434, \\u0413\\u0430\\u0433\\u0430\\u0440\\u0438\\u043d\\u0430 6\",\"\\u0420\\u043e\\u0441\\u0441\\u0438\\u044f, \\u0415\\u043a\\u0430\\u0442\\u0435\\u0440\\u0438\\u043d\\u0431\\u0443\\u0440\\u0433, \\u0413\\u0430\\u0433\\u0430\\u0440\\u0438\\u043d\\u0430 7\",\"\\u0420\\u043e\\u0441\\u0441\\u0438\\u044f, \\u041d\\u043e\\u0432\\u043e\\u0441\\u0438\\u0431\\u0438\\u0440\\u0441\\u043a, \\u0413\\u0430\\u0433\\u0430\\u0440\\u0438\\u043d\\u0430 8\",\"\\u0420\\u043e\\u0441\\u0441\\u0438\\u044f, \\u0418\\u0440\\u043a\\u0443\\u0442\\u0441\\u043a, \\u0413\\u0430\\u0433\\u0430\\u0440\\u0438\\u043d\\u0430 9\",\"\\u0420\\u043e\\u0441\\u0441\\u0438\\u044f, \\u0425\\u0430\\u0431\\u0430\\u0440\\u043e\\u0432\\u0441\\u043a, \\u0413\\u0430\\u0433\\u0430\\u0440\\u0438\\u043d\\u0430 10\"],\"lat\":[55.6084559,59.846618649999996,50.981301099999996,45.05692885,53.4021203,48.7003214,56.849878450000006,55.45000365,52.2728407,48.4574864],\"legendgroup\":\"\",\"lon\":[38.0888877,30.34150257520974,39.521864300000004,38.932183800000004,49.48281205499333,43.52095705091777,60.643334370324915,78.2709956,104.28129386599488,135.1853253],\"marker\":{\"color\":\"#636efa\"},\"mode\":\"markers\",\"name\":\"\",\"showlegend\":false,\"subplot\":\"mapbox\",\"type\":\"scattermapbox\"}],                        {\"height\":800,\"legend\":{\"tracegroupgap\":0},\"mapbox\":{\"center\":{\"lat\":52.662595540000005,\"lon\":61.82691566174405},\"domain\":{\"x\":[0.0,1.0],\"y\":[0.0,1.0]},\"style\":\"open-street-map\",\"zoom\":2},\"margin\":{\"t\":60},\"template\":{\"data\":{\"bar\":[{\"error_x\":{\"color\":\"#2a3f5f\"},\"error_y\":{\"color\":\"#2a3f5f\"},\"marker\":{\"line\":{\"color\":\"#E5ECF6\",\"width\":0.5},\"pattern\":{\"fillmode\":\"overlay\",\"size\":10,\"solidity\":0.2}},\"type\":\"bar\"}],\"barpolar\":[{\"marker\":{\"line\":{\"color\":\"#E5ECF6\",\"width\":0.5},\"pattern\":{\"fillmode\":\"overlay\",\"size\":10,\"solidity\":0.2}},\"type\":\"barpolar\"}],\"carpet\":[{\"aaxis\":{\"endlinecolor\":\"#2a3f5f\",\"gridcolor\":\"white\",\"linecolor\":\"white\",\"minorgridcolor\":\"white\",\"startlinecolor\":\"#2a3f5f\"},\"baxis\":{\"endlinecolor\":\"#2a3f5f\",\"gridcolor\":\"white\",\"linecolor\":\"white\",\"minorgridcolor\":\"white\",\"startlinecolor\":\"#2a3f5f\"},\"type\":\"carpet\"}],\"choropleth\":[{\"colorbar\":{\"outlinewidth\":0,\"ticks\":\"\"},\"type\":\"choropleth\"}],\"contour\":[{\"colorbar\":{\"outlinewidth\":0,\"ticks\":\"\"},\"colorscale\":[[0.0,\"#0d0887\"],[0.1111111111111111,\"#46039f\"],[0.2222222222222222,\"#7201a8\"],[0.3333333333333333,\"#9c179e\"],[0.4444444444444444,\"#bd3786\"],[0.5555555555555556,\"#d8576b\"],[0.6666666666666666,\"#ed7953\"],[0.7777777777777778,\"#fb9f3a\"],[0.8888888888888888,\"#fdca26\"],[1.0,\"#f0f921\"]],\"type\":\"contour\"}],\"contourcarpet\":[{\"colorbar\":{\"outlinewidth\":0,\"ticks\":\"\"},\"type\":\"contourcarpet\"}],\"heatmap\":[{\"colorbar\":{\"outlinewidth\":0,\"ticks\":\"\"},\"colorscale\":[[0.0,\"#0d0887\"],[0.1111111111111111,\"#46039f\"],[0.2222222222222222,\"#7201a8\"],[0.3333333333333333,\"#9c179e\"],[0.4444444444444444,\"#bd3786\"],[0.5555555555555556,\"#d8576b\"],[0.6666666666666666,\"#ed7953\"],[0.7777777777777778,\"#fb9f3a\"],[0.8888888888888888,\"#fdca26\"],[1.0,\"#f0f921\"]],\"type\":\"heatmap\"}],\"heatmapgl\":[{\"colorbar\":{\"outlinewidth\":0,\"ticks\":\"\"},\"colorscale\":[[0.0,\"#0d0887\"],[0.1111111111111111,\"#46039f\"],[0.2222222222222222,\"#7201a8\"],[0.3333333333333333,\"#9c179e\"],[0.4444444444444444,\"#bd3786\"],[0.5555555555555556,\"#d8576b\"],[0.6666666666666666,\"#ed7953\"],[0.7777777777777778,\"#fb9f3a\"],[0.8888888888888888,\"#fdca26\"],[1.0,\"#f0f921\"]],\"type\":\"heatmapgl\"}],\"histogram\":[{\"marker\":{\"pattern\":{\"fillmode\":\"overlay\",\"size\":10,\"solidity\":0.2}},\"type\":\"histogram\"}],\"histogram2d\":[{\"colorbar\":{\"outlinewidth\":0,\"ticks\":\"\"},\"colorscale\":[[0.0,\"#0d0887\"],[0.1111111111111111,\"#46039f\"],[0.2222222222222222,\"#7201a8\"],[0.3333333333333333,\"#9c179e\"],[0.4444444444444444,\"#bd3786\"],[0.5555555555555556,\"#d8576b\"],[0.6666666666666666,\"#ed7953\"],[0.7777777777777778,\"#fb9f3a\"],[0.8888888888888888,\"#fdca26\"],[1.0,\"#f0f921\"]],\"type\":\"histogram2d\"}],\"histogram2dcontour\":[{\"colorbar\":{\"outlinewidth\":0,\"ticks\":\"\"},\"colorscale\":[[0.0,\"#0d0887\"],[0.1111111111111111,\"#46039f\"],[0.2222222222222222,\"#7201a8\"],[0.3333333333333333,\"#9c179e\"],[0.4444444444444444,\"#bd3786\"],[0.5555555555555556,\"#d8576b\"],[0.6666666666666666,\"#ed7953\"],[0.7777777777777778,\"#fb9f3a\"],[0.8888888888888888,\"#fdca26\"],[1.0,\"#f0f921\"]],\"type\":\"histogram2dcontour\"}],\"mesh3d\":[{\"colorbar\":{\"outlinewidth\":0,\"ticks\":\"\"},\"type\":\"mesh3d\"}],\"parcoords\":[{\"line\":{\"colorbar\":{\"outlinewidth\":0,\"ticks\":\"\"}},\"type\":\"parcoords\"}],\"pie\":[{\"automargin\":true,\"type\":\"pie\"}],\"scatter\":[{\"marker\":{\"colorbar\":{\"outlinewidth\":0,\"ticks\":\"\"}},\"type\":\"scatter\"}],\"scatter3d\":[{\"line\":{\"colorbar\":{\"outlinewidth\":0,\"ticks\":\"\"}},\"marker\":{\"colorbar\":{\"outlinewidth\":0,\"ticks\":\"\"}},\"type\":\"scatter3d\"}],\"scattercarpet\":[{\"marker\":{\"colorbar\":{\"outlinewidth\":0,\"ticks\":\"\"}},\"type\":\"scattercarpet\"}],\"scattergeo\":[{\"marker\":{\"colorbar\":{\"outlinewidth\":0,\"ticks\":\"\"}},\"type\":\"scattergeo\"}],\"scattergl\":[{\"marker\":{\"colorbar\":{\"outlinewidth\":0,\"ticks\":\"\"}},\"type\":\"scattergl\"}],\"scattermapbox\":[{\"marker\":{\"colorbar\":{\"outlinewidth\":0,\"ticks\":\"\"}},\"type\":\"scattermapbox\"}],\"scatterpolar\":[{\"marker\":{\"colorbar\":{\"outlinewidth\":0,\"ticks\":\"\"}},\"type\":\"scatterpolar\"}],\"scatterpolargl\":[{\"marker\":{\"colorbar\":{\"outlinewidth\":0,\"ticks\":\"\"}},\"type\":\"scatterpolargl\"}],\"scatterternary\":[{\"marker\":{\"colorbar\":{\"outlinewidth\":0,\"ticks\":\"\"}},\"type\":\"scatterternary\"}],\"surface\":[{\"colorbar\":{\"outlinewidth\":0,\"ticks\":\"\"},\"colorscale\":[[0.0,\"#0d0887\"],[0.1111111111111111,\"#46039f\"],[0.2222222222222222,\"#7201a8\"],[0.3333333333333333,\"#9c179e\"],[0.4444444444444444,\"#bd3786\"],[0.5555555555555556,\"#d8576b\"],[0.6666666666666666,\"#ed7953\"],[0.7777777777777778,\"#fb9f3a\"],[0.8888888888888888,\"#fdca26\"],[1.0,\"#f0f921\"]],\"type\":\"surface\"}],\"table\":[{\"cells\":{\"fill\":{\"color\":\"#EBF0F8\"},\"line\":{\"color\":\"white\"}},\"header\":{\"fill\":{\"color\":\"#C8D4E3\"},\"line\":{\"color\":\"white\"}},\"type\":\"table\"}]},\"layout\":{\"annotationdefaults\":{\"arrowcolor\":\"#2a3f5f\",\"arrowhead\":0,\"arrowwidth\":1},\"autotypenumbers\":\"strict\",\"coloraxis\":{\"colorbar\":{\"outlinewidth\":0,\"ticks\":\"\"}},\"colorscale\":{\"diverging\":[[0,\"#8e0152\"],[0.1,\"#c51b7d\"],[0.2,\"#de77ae\"],[0.3,\"#f1b6da\"],[0.4,\"#fde0ef\"],[0.5,\"#f7f7f7\"],[0.6,\"#e6f5d0\"],[0.7,\"#b8e186\"],[0.8,\"#7fbc41\"],[0.9,\"#4d9221\"],[1,\"#276419\"]],\"sequential\":[[0.0,\"#0d0887\"],[0.1111111111111111,\"#46039f\"],[0.2222222222222222,\"#7201a8\"],[0.3333333333333333,\"#9c179e\"],[0.4444444444444444,\"#bd3786\"],[0.5555555555555556,\"#d8576b\"],[0.6666666666666666,\"#ed7953\"],[0.7777777777777778,\"#fb9f3a\"],[0.8888888888888888,\"#fdca26\"],[1.0,\"#f0f921\"]],\"sequentialminus\":[[0.0,\"#0d0887\"],[0.1111111111111111,\"#46039f\"],[0.2222222222222222,\"#7201a8\"],[0.3333333333333333,\"#9c179e\"],[0.4444444444444444,\"#bd3786\"],[0.5555555555555556,\"#d8576b\"],[0.6666666666666666,\"#ed7953\"],[0.7777777777777778,\"#fb9f3a\"],[0.8888888888888888,\"#fdca26\"],[1.0,\"#f0f921\"]]},\"colorway\":[\"#636efa\",\"#EF553B\",\"#00cc96\",\"#ab63fa\",\"#FFA15A\",\"#19d3f3\",\"#FF6692\",\"#B6E880\",\"#FF97FF\",\"#FECB52\"],\"font\":{\"color\":\"#2a3f5f\"},\"geo\":{\"bgcolor\":\"white\",\"lakecolor\":\"white\",\"landcolor\":\"#E5ECF6\",\"showlakes\":true,\"showland\":true,\"subunitcolor\":\"white\"},\"hoverlabel\":{\"align\":\"left\"},\"hovermode\":\"closest\",\"mapbox\":{\"style\":\"light\"},\"paper_bgcolor\":\"white\",\"plot_bgcolor\":\"#E5ECF6\",\"polar\":{\"angularaxis\":{\"gridcolor\":\"white\",\"linecolor\":\"white\",\"ticks\":\"\"},\"bgcolor\":\"#E5ECF6\",\"radialaxis\":{\"gridcolor\":\"white\",\"linecolor\":\"white\",\"ticks\":\"\"}},\"scene\":{\"xaxis\":{\"backgroundcolor\":\"#E5ECF6\",\"gridcolor\":\"white\",\"gridwidth\":2,\"linecolor\":\"white\",\"showbackground\":true,\"ticks\":\"\",\"zerolinecolor\":\"white\"},\"yaxis\":{\"backgroundcolor\":\"#E5ECF6\",\"gridcolor\":\"white\",\"gridwidth\":2,\"linecolor\":\"white\",\"showbackground\":true,\"ticks\":\"\",\"zerolinecolor\":\"white\"},\"zaxis\":{\"backgroundcolor\":\"#E5ECF6\",\"gridcolor\":\"white\",\"gridwidth\":2,\"linecolor\":\"white\",\"showbackground\":true,\"ticks\":\"\",\"zerolinecolor\":\"white\"}},\"shapedefaults\":{\"line\":{\"color\":\"#2a3f5f\"}},\"ternary\":{\"aaxis\":{\"gridcolor\":\"white\",\"linecolor\":\"white\",\"ticks\":\"\"},\"baxis\":{\"gridcolor\":\"white\",\"linecolor\":\"white\",\"ticks\":\"\"},\"bgcolor\":\"#E5ECF6\",\"caxis\":{\"gridcolor\":\"white\",\"linecolor\":\"white\",\"ticks\":\"\"}},\"title\":{\"x\":0.05},\"xaxis\":{\"automargin\":true,\"gridcolor\":\"white\",\"linecolor\":\"white\",\"ticks\":\"\",\"title\":{\"standoff\":15},\"zerolinecolor\":\"white\",\"zerolinewidth\":2},\"yaxis\":{\"automargin\":true,\"gridcolor\":\"white\",\"linecolor\":\"white\",\"ticks\":\"\",\"title\":{\"standoff\":15},\"zerolinecolor\":\"white\",\"zerolinewidth\":2}}}},                        {\"responsive\": true}                    ).then(function(){\n",
       "                            \n",
       "var gd = document.getElementById('b4073d76-96e2-4ab6-96eb-1161da5e5e53');\n",
       "var x = new MutationObserver(function (mutations, observer) {{\n",
       "        var display = window.getComputedStyle(gd).display;\n",
       "        if (!display || display === 'none') {{\n",
       "            console.log([gd, 'removed!']);\n",
       "            Plotly.purge(gd);\n",
       "            observer.disconnect();\n",
       "        }}\n",
       "}});\n",
       "\n",
       "// Listen for the removal of the full notebook cells\n",
       "var notebookContainer = gd.closest('#notebook-container');\n",
       "if (notebookContainer) {{\n",
       "    x.observe(notebookContainer, {childList: true});\n",
       "}}\n",
       "\n",
       "// Listen for the clearing of the current output cell\n",
       "var outputEl = gd.closest('.output');\n",
       "if (outputEl) {{\n",
       "    x.observe(outputEl, {childList: true});\n",
       "}}\n",
       "\n",
       "                        })                };                });            </script>        </div>"
      ]
     },
     "metadata": {},
     "output_type": "display_data"
    }
   ],
   "source": [
    "import plotly.express as px\n",
    "fig=px.scatter_mapbox(df, lat='lat', lon='lon', hover_name='full_', zoom = 2 ,height=800)\n",
    "fig.update_layout(mapbox_style='open-street-map')\n",
    "fig.show()"
   ]
  },
  {
   "cell_type": "code",
   "execution_count": null,
   "id": "ee96de56",
   "metadata": {},
   "outputs": [],
   "source": []
  }
 ],
 "metadata": {
  "hide_input": false,
  "kernelspec": {
   "display_name": "Python 3",
   "language": "python",
   "name": "python3"
  },
  "language_info": {
   "codemirror_mode": {
    "name": "ipython",
    "version": 3
   },
   "file_extension": ".py",
   "mimetype": "text/x-python",
   "name": "python",
   "nbconvert_exporter": "python",
   "pygments_lexer": "ipython3",
   "version": "3.8.8"
  },
  "toc": {
   "base_numbering": " ",
   "nav_menu": {},
   "number_sections": false,
   "sideBar": true,
   "skip_h1_title": false,
   "title_cell": "Table of Contents",
   "title_sidebar": "Навигация",
   "toc_cell": false,
   "toc_position": {},
   "toc_section_display": true,
   "toc_window_display": true
  }
 },
 "nbformat": 4,
 "nbformat_minor": 5
}
